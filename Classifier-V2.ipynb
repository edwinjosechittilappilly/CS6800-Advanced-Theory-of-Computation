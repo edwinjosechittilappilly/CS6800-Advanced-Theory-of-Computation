{
 "cells": [
  {
   "cell_type": "code",
   "execution_count": 1,
   "id": "20e8955f-e84a-4733-a0dd-0de6bd642804",
   "metadata": {},
   "outputs": [],
   "source": [
    "from qiskit_machine_learning.datasets.dataset_helper import (\n",
    "    features_and_labels_transform\n",
    ")\n",
    "\n",
    "from sklearn.datasets import make_blobs\n",
    "from sklearn.datasets import load_breast_cancer\n",
    "\n",
    "from qiskit import BasicAer\n",
    "from qiskit.circuit.library import ZFeatureMap\n",
    "from qiskit.utils import algorithm_globals\n",
    "\n",
    "from qiskit_machine_learning.kernels import FidelityQuantumKernel\n",
    "from qiskit_machine_learning.algorithms import PegasosQSVC"
   ]
  },
  {
   "cell_type": "code",
   "execution_count": 2,
   "id": "15ac7249-eca6-4878-b7e8-59930121a35d",
   "metadata": {},
   "outputs": [],
   "source": [
    "\"\"\"\n",
    "breast cancer dataset\n",
    "\"\"\"\n",
    "\n",
    "import numpy as np\n",
    "from sklearn import datasets\n",
    "from sklearn.model_selection import train_test_split\n",
    "from sklearn.preprocessing import StandardScaler, MinMaxScaler\n",
    "from sklearn.decomposition import PCA\n",
    "from qiskit.utils import optionals\n",
    "from qiskit_machine_learning.datasets.dataset_helper import (features_and_labels_transform)\n",
    "\n",
    "\n",
    "\n",
    "# train_size=20\n",
    "# test_size=30\n",
    "# n=2\n",
    "# plot_data=True\n",
    "# one_hot=True\n",
    "\n",
    "\n",
    "def reduce_data(train_size=0.7,dataset=None,test_size=0.3,dimension=2,plot_data=True,one_hot=False,\n",
    "                sample_train=None, sample_test=None, label_train=[], label_test=None,title=\"Sample Diagram\"):\n",
    "    \n",
    "    if len(dataset)>0:\n",
    "        data =dataset[\"data\"]\n",
    "        target = dataset[\"target\"]\n",
    "        class_labels = np.unique(target).tolist()\n",
    "        sample_train, sample_test, label_train, label_test = train_test_split(\n",
    "            data, target, train_size=train_size,test_size=test_size, random_state=12)\n",
    "    else:\n",
    "        class_labels = np.unique(label_train).tolist()\n",
    "        \n",
    "    if type(test_size)==float or type(train_size)==float :\n",
    "        test_size=len(label_test)\n",
    "        train_size=len(label_train)\n",
    "\n",
    "    # Now we standardize for gaussian around 0 with unit variance\n",
    "    std_scale = StandardScaler().fit(sample_train)\n",
    "    sample_train = std_scale.transform(sample_train)\n",
    "    sample_test = std_scale.transform(sample_test)\n",
    "\n",
    "    # Now reduce number of features to number of qubits\n",
    "    pca = PCA(n_components=dimension).fit(sample_train)\n",
    "    sample_train = pca.transform(sample_train)\n",
    "    sample_test = pca.transform(sample_test)\n",
    "\n",
    "    # Scale to the range (-1,+1)\n",
    "    samples = np.append(sample_train, sample_test, axis=0)\n",
    "    minmax_scale = MinMaxScaler((-1, 1)).fit(samples)\n",
    "    sample_train = minmax_scale.transform(sample_train)\n",
    "    sample_test = minmax_scale.transform(sample_test)\n",
    "\n",
    "    # Pick training size number of samples from each distro\n",
    "    training_input = {\n",
    "        key: (sample_train[label_train == k, :])[:train_size]\n",
    "        for k, key in enumerate(class_labels)\n",
    "    }\n",
    "    test_input = {\n",
    "        key: (sample_test[label_test == k, :])[:test_size] for k, key in enumerate(class_labels)\n",
    "    }\n",
    "    training_feature_array, training_label_array = features_and_labels_transform(\n",
    "        training_input, class_labels, one_hot\n",
    "    )\n",
    "    test_feature_array, test_label_array = features_and_labels_transform(\n",
    "        test_input, class_labels, one_hot\n",
    "    )\n",
    "\n",
    "    if plot_data:\n",
    "        # optionals.HAS_MATPLOTLIB.require_now(\"breast_cancer\")\n",
    "        # pylint: disable=import-error\n",
    "        import matplotlib.pyplot as plt\n",
    "\n",
    "        for k in range(0, 2):\n",
    "            #gets the xy cordinateds for each classes\n",
    "            plt.scatter(\n",
    "                sample_train[label_train == k, 0][:train_size],\n",
    "                sample_train[label_train == k, 1][:train_size],\n",
    "            )\n",
    "        plt.legend(class_labels)\n",
    "        plt.title(f\"PCA dim.{dimension} reduced {title} dataset\")\n",
    "        plt.show()\n",
    "\n",
    "    return(\n",
    "        training_feature_array,\n",
    "        training_label_array,\n",
    "        test_feature_array,\n",
    "        test_label_array)"
   ]
  },
  {
   "cell_type": "markdown",
   "id": "13c39e6e-2d1f-420c-8653-159470c56fcf",
   "metadata": {},
   "source": [
    "# QNN\n"
   ]
  },
  {
   "cell_type": "code",
   "execution_count": 3,
   "id": "1d9f1eac-4a24-4181-82aa-850a01975557",
   "metadata": {},
   "outputs": [],
   "source": [
    "dataset=load_breast_cancer()"
   ]
  },
  {
   "cell_type": "code",
   "execution_count": 28,
   "id": "53e43918-8a4e-4899-97bc-69b542cab8e0",
   "metadata": {},
   "outputs": [],
   "source": [
    "from hyperopt.pyll.base import scope\n",
    "from hyperopt import fmin, hp, tpe, Trials, space_eval\n",
    "from sklearn.model_selection import cross_val_score\n",
    "from hyperopt import tpe, hp, fmin, STATUS_OK, Trials\n",
    "\n",
    "from hyperopt.pyll.base import scope\n",
    "from hyperopt.early_stop import no_progress_loss\n",
    "from hyperopt.pyll import scope"
   ]
  },
  {
   "cell_type": "code",
   "execution_count": 29,
   "id": "27cee474-025b-4982-ab5a-84c2f9a8f86a",
   "metadata": {},
   "outputs": [],
   "source": [
    "import matplotlib.pyplot as plt\n",
    "import numpy as np\n",
    "from IPython.display import clear_output\n",
    "from qiskit import QuantumCircuit\n",
    "from qiskit.algorithms.optimizers import COBYLA, L_BFGS_B\n",
    "from qiskit.circuit import Parameter\n",
    "from qiskit.circuit.library import RealAmplitudes, ZZFeatureMap\n",
    "from qiskit.utils import algorithm_globals\n",
    "\n",
    "from qiskit_machine_learning.algorithms.classifiers import NeuralNetworkClassifier, VQC\n",
    "from qiskit_machine_learning.algorithms.regressors import NeuralNetworkRegressor, VQR\n",
    "from qiskit_machine_learning.neural_networks import SamplerQNN, EstimatorQNN\n",
    "\n",
    "algorithm_globals.random_seed = 42"
   ]
  },
  {
   "cell_type": "code",
   "execution_count": 30,
   "id": "8f3eb74c-5ba6-4983-b5ab-654b2d4db5c9",
   "metadata": {},
   "outputs": [
    {
     "name": "stdout",
     "output_type": "stream",
     "text": [
      "100%|███████████████████████████████████████| 10/10 [6:09:49<00:00, 2218.96s/trial, best loss: -0.6081871345029239]\n"
     ]
    }
   ],
   "source": [
    "# space = {\"c\": hp.uniform(\"c\", -10, 10)}\n",
    "# scope.int(hp.quiniform('my_param', 1, 100, q=1))\n",
    "\n",
    "\n",
    "space ={\"q\":hp.choice(\"q\",list(range(2,5)))}\n",
    "\n",
    "# define objective function\n",
    "def model(params):\n",
    "    \n",
    "    q=params[\"q\"]\n",
    "    # construct QNN\n",
    "    qc = QuantumCircuit(q)\n",
    "    feature_map = ZZFeatureMap(q)\n",
    "    ansatz = RealAmplitudes(q)\n",
    "    qc.compose(feature_map, inplace=True)\n",
    "    qc.compose(ansatz, inplace=True)\n",
    "\n",
    "    train_features,train_labels,test_features,test_labels = reduce_data(dataset=dataset,\n",
    "                                                                  train_size=0.7,\n",
    "                                                                  test_size=0.3,\n",
    "                                                                  dimension=q,\n",
    "                                                                  plot_data=False,\n",
    "                                                                  one_hot=False,\n",
    "                                                                  title=\"Breast Cancer SK learn\")\n",
    "    \n",
    "    estimator_qnn = EstimatorQNN(circuit=qc, input_params=feature_map.parameters, weight_params=ansatz.parameters)\n",
    "    \n",
    "    estimator_classifier = NeuralNetworkClassifier(\n",
    "        estimator_qnn, optimizer=COBYLA())\n",
    "    \n",
    "    return estimator_classifier,train_features,train_labels,test_features,test_labels\n",
    "\n",
    "def hyperparameter_tuning(params):\n",
    "    clf,train_features,train_labels,test_features,test_labels = model(params)\n",
    "    clf.fit(train_features, train_labels)\n",
    "\n",
    "    score = clf.score(test_features, test_labels)\n",
    " \n",
    "    return {\"loss\": -1 * score, \"status\": STATUS_OK}\n",
    "\n",
    "# Initialize trials object\n",
    "trials = Trials()\n",
    "\n",
    "best = fmin(\n",
    "    fn=hyperparameter_tuning,\n",
    "    space=space,\n",
    "    algo=tpe.suggest,\n",
    "    max_evals=10,\n",
    "    trials=trials,\n",
    "    early_stop_fn=no_progress_loss(iteration_stop_count=10,\n",
    "                                   percent_increase=0.0),\n",
    ")"
   ]
  },
  {
   "cell_type": "code",
   "execution_count": 32,
   "id": "b83535d5-0f22-4209-9894-232a599823d7",
   "metadata": {},
   "outputs": [
    {
     "data": {
      "text/plain": [
       "{'q': 0}"
      ]
     },
     "execution_count": 32,
     "metadata": {},
     "output_type": "execute_result"
    }
   ],
   "source": [
    "best"
   ]
  },
  {
   "cell_type": "code",
   "execution_count": 33,
   "id": "6f9bc4bc-b5aa-47ec-8237-37c3d3b5bf7d",
   "metadata": {},
   "outputs": [
    {
     "data": {
      "text/plain": [
       "[{'state': 2,\n",
       "  'tid': 0,\n",
       "  'spec': None,\n",
       "  'result': {'loss': -0.6081871345029239, 'status': 'ok'},\n",
       "  'misc': {'tid': 0,\n",
       "   'cmd': ('domain_attachment', 'FMinIter_Domain'),\n",
       "   'workdir': None,\n",
       "   'idxs': {'q': [0]},\n",
       "   'vals': {'q': [0]}},\n",
       "  'exp_key': None,\n",
       "  'owner': None,\n",
       "  'version': 0,\n",
       "  'book_time': datetime.datetime(2022, 12, 5, 2, 12, 39, 239000),\n",
       "  'refresh_time': datetime.datetime(2022, 12, 5, 2, 21, 10, 41000)},\n",
       " {'state': 2,\n",
       "  'tid': 1,\n",
       "  'spec': None,\n",
       "  'result': {'loss': -0.6081871345029239, 'status': 'ok'},\n",
       "  'misc': {'tid': 1,\n",
       "   'cmd': ('domain_attachment', 'FMinIter_Domain'),\n",
       "   'workdir': None,\n",
       "   'idxs': {'q': [1]},\n",
       "   'vals': {'q': [0]}},\n",
       "  'exp_key': None,\n",
       "  'owner': None,\n",
       "  'version': 0,\n",
       "  'book_time': datetime.datetime(2022, 12, 5, 2, 21, 10, 43000),\n",
       "  'refresh_time': datetime.datetime(2022, 12, 5, 2, 25, 31, 82000)},\n",
       " {'state': 2,\n",
       "  'tid': 2,\n",
       "  'spec': None,\n",
       "  'result': {'loss': -0.5321637426900585, 'status': 'ok'},\n",
       "  'misc': {'tid': 2,\n",
       "   'cmd': ('domain_attachment', 'FMinIter_Domain'),\n",
       "   'workdir': None,\n",
       "   'idxs': {'q': [2]},\n",
       "   'vals': {'q': [2]}},\n",
       "  'exp_key': None,\n",
       "  'owner': None,\n",
       "  'version': 0,\n",
       "  'book_time': datetime.datetime(2022, 12, 5, 2, 25, 31, 86000),\n",
       "  'refresh_time': datetime.datetime(2022, 12, 5, 3, 44, 19, 222000)},\n",
       " {'state': 2,\n",
       "  'tid': 3,\n",
       "  'spec': None,\n",
       "  'result': {'loss': -0.5380116959064327, 'status': 'ok'},\n",
       "  'misc': {'tid': 3,\n",
       "   'cmd': ('domain_attachment', 'FMinIter_Domain'),\n",
       "   'workdir': None,\n",
       "   'idxs': {'q': [3]},\n",
       "   'vals': {'q': [2]}},\n",
       "  'exp_key': None,\n",
       "  'owner': None,\n",
       "  'version': 0,\n",
       "  'book_time': datetime.datetime(2022, 12, 5, 3, 44, 19, 230000),\n",
       "  'refresh_time': datetime.datetime(2022, 12, 5, 5, 3, 5, 91000)},\n",
       " {'state': 2,\n",
       "  'tid': 4,\n",
       "  'spec': None,\n",
       "  'result': {'loss': -0.5497076023391813, 'status': 'ok'},\n",
       "  'misc': {'tid': 4,\n",
       "   'cmd': ('domain_attachment', 'FMinIter_Domain'),\n",
       "   'workdir': None,\n",
       "   'idxs': {'q': [4]},\n",
       "   'vals': {'q': [1]}},\n",
       "  'exp_key': None,\n",
       "  'owner': None,\n",
       "  'version': 0,\n",
       "  'book_time': datetime.datetime(2022, 12, 5, 5, 3, 5, 96000),\n",
       "  'refresh_time': datetime.datetime(2022, 12, 5, 5, 28, 23, 332000)},\n",
       " {'state': 2,\n",
       "  'tid': 5,\n",
       "  'spec': None,\n",
       "  'result': {'loss': -0.5614035087719298, 'status': 'ok'},\n",
       "  'misc': {'tid': 5,\n",
       "   'cmd': ('domain_attachment', 'FMinIter_Domain'),\n",
       "   'workdir': None,\n",
       "   'idxs': {'q': [5]},\n",
       "   'vals': {'q': [1]}},\n",
       "  'exp_key': None,\n",
       "  'owner': None,\n",
       "  'version': 0,\n",
       "  'book_time': datetime.datetime(2022, 12, 5, 5, 28, 23, 334000),\n",
       "  'refresh_time': datetime.datetime(2022, 12, 5, 6, 20, 23, 578000)},\n",
       " {'state': 2,\n",
       "  'tid': 6,\n",
       "  'spec': None,\n",
       "  'result': {'loss': -0.6081871345029239, 'status': 'ok'},\n",
       "  'misc': {'tid': 6,\n",
       "   'cmd': ('domain_attachment', 'FMinIter_Domain'),\n",
       "   'workdir': None,\n",
       "   'idxs': {'q': [6]},\n",
       "   'vals': {'q': [0]}},\n",
       "  'exp_key': None,\n",
       "  'owner': None,\n",
       "  'version': 0,\n",
       "  'book_time': datetime.datetime(2022, 12, 5, 6, 20, 23, 584000),\n",
       "  'refresh_time': datetime.datetime(2022, 12, 5, 6, 24, 7, 701000)},\n",
       " {'state': 2,\n",
       "  'tid': 7,\n",
       "  'spec': None,\n",
       "  'result': {'loss': -0.5555555555555556, 'status': 'ok'},\n",
       "  'misc': {'tid': 7,\n",
       "   'cmd': ('domain_attachment', 'FMinIter_Domain'),\n",
       "   'workdir': None,\n",
       "   'idxs': {'q': [7]},\n",
       "   'vals': {'q': [2]}},\n",
       "  'exp_key': None,\n",
       "  'owner': None,\n",
       "  'version': 0,\n",
       "  'book_time': datetime.datetime(2022, 12, 5, 6, 24, 7, 704000),\n",
       "  'refresh_time': datetime.datetime(2022, 12, 5, 7, 42, 31, 453000)},\n",
       " {'state': 2,\n",
       "  'tid': 8,\n",
       "  'spec': None,\n",
       "  'result': {'loss': -0.6081871345029239, 'status': 'ok'},\n",
       "  'misc': {'tid': 8,\n",
       "   'cmd': ('domain_attachment', 'FMinIter_Domain'),\n",
       "   'workdir': None,\n",
       "   'idxs': {'q': [8]},\n",
       "   'vals': {'q': [0]}},\n",
       "  'exp_key': None,\n",
       "  'owner': None,\n",
       "  'version': 0,\n",
       "  'book_time': datetime.datetime(2022, 12, 5, 7, 42, 31, 459000),\n",
       "  'refresh_time': datetime.datetime(2022, 12, 5, 7, 47, 16, 913000)},\n",
       " {'state': 2,\n",
       "  'tid': 9,\n",
       "  'spec': None,\n",
       "  'result': {'loss': -0.5555555555555556, 'status': 'ok'},\n",
       "  'misc': {'tid': 9,\n",
       "   'cmd': ('domain_attachment', 'FMinIter_Domain'),\n",
       "   'workdir': None,\n",
       "   'idxs': {'q': [9]},\n",
       "   'vals': {'q': [1]}},\n",
       "  'exp_key': None,\n",
       "  'owner': None,\n",
       "  'version': 0,\n",
       "  'book_time': datetime.datetime(2022, 12, 5, 7, 47, 16, 916000),\n",
       "  'refresh_time': datetime.datetime(2022, 12, 5, 8, 22, 28, 819000)}]"
      ]
     },
     "execution_count": 33,
     "metadata": {},
     "output_type": "execute_result"
    }
   ],
   "source": [
    "list(trials)"
   ]
  },
  {
   "cell_type": "code",
   "execution_count": 34,
   "id": "7604600d-e4ee-4d1d-9ac8-56f7d5f1099d",
   "metadata": {},
   "outputs": [],
   "source": [
    "space_final ={\"q\":list(range(2,5))}"
   ]
  },
  {
   "cell_type": "code",
   "execution_count": 36,
   "id": "857106fd-f4e1-4a42-b489-c1e5d8997d85",
   "metadata": {},
   "outputs": [
    {
     "name": "stdout",
     "output_type": "stream",
     "text": [
      "q:2\n"
     ]
    }
   ],
   "source": [
    "print(f'q:{space_final[\"q\"][best[\"q\"]]}')"
   ]
  },
  {
   "cell_type": "code",
   "execution_count": 37,
   "id": "0c2381b9-523c-4ca0-ad5f-7a34a2d3d84e",
   "metadata": {},
   "outputs": [],
   "source": [
    "# callback function that draws a live plot when the .fit() method is called\n",
    "def callback_graph(weights, obj_func_eval):\n",
    "    clear_output(wait=True)\n",
    "    objective_func_vals.append(obj_func_eval)\n",
    "    plt.title(\"Objective function value against iteration\")\n",
    "    plt.xlabel(\"Iteration\")\n",
    "    plt.ylabel(\"Objective function value\")\n",
    "    plt.plot(range(len(objective_func_vals)), objective_func_vals)\n",
    "    plt.show()"
   ]
  },
  {
   "cell_type": "code",
   "execution_count": 68,
   "id": "47c9bfae-692d-4ea7-b78b-1760551aa18e",
   "metadata": {},
   "outputs": [],
   "source": [
    "q=space_final[\"q\"][best[\"q\"]]\n",
    "# construct QNN\n",
    "qc = QuantumCircuit(q)\n",
    "feature_map = ZZFeatureMap(q)\n",
    "ansatz = RealAmplitudes(q)\n",
    "qc.compose(feature_map, inplace=True)\n",
    "qc.compose(ansatz, inplace=True)\n",
    "qc.draw(output=\"mpl\")\n",
    "train_features,train_labels,test_features,test_labels = reduce_data(dataset=dataset,\n",
    "                                                              train_size=0.7,\n",
    "                                                              test_size=0.3,\n",
    "                                                              dimension=q,\n",
    "                                                              plot_data=False,\n",
    "                                                              one_hot=False,\n",
    "                                                              title=\"Breast Cancer SK learn\")\n",
    "\n",
    "estimator_qnn = EstimatorQNN(circuit=qc, input_params=feature_map.parameters, weight_params=ansatz.parameters)\n",
    "\n",
    "# construct neural network classifier\n",
    "estimator_classifier = NeuralNetworkClassifier(\n",
    "    estimator_qnn, optimizer=COBYLA(), callback=callback_graph\n",
    ")"
   ]
  },
  {
   "cell_type": "code",
   "execution_count": 69,
   "id": "9e07a7f7-22ce-4d3a-b647-77b5d8af342a",
   "metadata": {},
   "outputs": [
    {
     "data": {
      "image/png": "[encoded data removed]",
      "text/plain": [
       "<Figure size 705.35x200.667 with 1 Axes>"
      ]
     },
     "execution_count": 69,
     "metadata": {},
     "output_type": "execute_result"
    }
   ],
   "source": [
    "qc.draw(output=\"mpl\")"
   ]
  },
  {
   "cell_type": "code",
   "execution_count": 40,
   "id": "2a694b06-f480-42e3-b40f-a75d7b931bf8",
   "metadata": {},
   "outputs": [
    {
     "data": {
      "image/png": "[encoded data removed]",
      "text/plain": [
       "<Figure size 1200x600 with 1 Axes>"
      ]
     },
     "metadata": {},
     "output_type": "display_data"
    },
    {
     "name": "stdout",
     "output_type": "stream",
     "text": [
      "CPU times: user 18min 23s, sys: 50.9 s, total: 19min 14s\n",
      "Wall time: 18min 5s\n"
     ]
    },
    {
     "data": {
      "text/plain": [
       "0.6081871345029239"
      ]
     },
     "execution_count": 40,
     "metadata": {},
     "output_type": "execute_result"
    }
   ],
   "source": [
    "%%time\n",
    "# create empty array for callback to store evaluations of the objective function\n",
    "objective_func_vals = []\n",
    "plt.rcParams[\"figure.figsize\"] = (12, 6)\n",
    "\n",
    "# fit classifier to data\n",
    "estimator_classifier.fit(train_features, train_labels)\n",
    "\n",
    "# return to default figsize\n",
    "plt.rcParams[\"figure.figsize\"] = (6, 4)\n",
    "\n",
    "# score classifier\n",
    "estimator_classifier.score(test_features, test_labels)"
   ]
  },
  {
   "cell_type": "code",
   "execution_count": null,
   "id": "7ecd05e8-abc5-48a6-8c26-594e0b1116ee",
   "metadata": {},
   "outputs": [],
   "source": []
  },
  {
   "cell_type": "code",
   "execution_count": null,
   "id": "32e99c86-fae5-4ccc-a2b9-11c8e0361747",
   "metadata": {},
   "outputs": [],
   "source": []
  },
  {
   "cell_type": "code",
   "execution_count": 56,
   "id": "8b5183cf-709b-45e1-b81f-89661f714480",
   "metadata": {},
   "outputs": [
    {
     "data": {
      "image/png": "[encoded data removed]",
      "text/plain": [
       "<Figure size 600x400 with 1 Axes>"
      ]
     },
     "metadata": {},
     "output_type": "display_data"
    }
   ],
   "source": [
    "# evaluate data points\n",
    "y_predict = estimator_classifier.predict(test_features)\n",
    "\n",
    "# plot results\n",
    "# red == wrongly classified\n",
    "for x, y_target, y_p in zip(test_features, test_labels, y_predict):\n",
    "    # plt.hold(True)\n",
    "    if y_target == 1:\n",
    "        plt.plot(x[0], x[1], \"bo\",label=\"Class1\")\n",
    "        # plt.legend([\"Class 1\"])\n",
    "    else:\n",
    "        plt.plot(x[0], x[1], \"go\",label=\"Class0\")\n",
    "        # plt.legend([\"Class 0\"])\n",
    "    if y_target != y_p:\n",
    "        plt.scatter(x[0], x[1], s=200, facecolors=\"none\", edgecolors=\"r\", linewidths=2,label=\"Wrongly Classified\")\n",
    "        # plt.legend([\"Wrongly classified\"])\n",
    "# plt.legend(loc='upper left')\n",
    "plt.show()"
   ]
  },
  {
   "cell_type": "code",
   "execution_count": 58,
   "id": "82582bc5-2cf2-48c7-9f73-0abc89037c4e",
   "metadata": {},
   "outputs": [
    {
     "data": {
      "text/plain": [
       "array([0, 0, 0, 0, 0, 0, 0, 0, 0, 0, 0, 0, 0, 0, 0, 0, 0, 0, 0, 0, 0, 0,\n",
       "       0, 0, 0, 0, 0, 0, 0, 0, 0, 0, 0, 0, 0, 0, 0, 0, 0, 0, 0, 0, 0, 0,\n",
       "       0, 0, 0, 0, 0, 0, 0, 0, 0, 0, 0, 0, 0, 0, 0, 0, 0, 0, 0, 0, 1, 1,\n",
       "       1, 1, 1, 1, 1, 1, 1, 1, 1, 1, 1, 1, 1, 1, 1, 1, 1, 1, 1, 1, 1, 1,\n",
       "       1, 1, 1, 1, 1, 1, 1, 1, 1, 1, 1, 1, 1, 1, 1, 1, 1, 1, 1, 1, 1, 1,\n",
       "       1, 1, 1, 1, 1, 1, 1, 1, 1, 1, 1, 1, 1, 1, 1, 1, 1, 1, 1, 1, 1, 1,\n",
       "       1, 1, 1, 1, 1, 1, 1, 1, 1, 1, 1, 1, 1, 1, 1, 1, 1, 1, 1, 1, 1, 1,\n",
       "       1, 1, 1, 1, 1, 1, 1, 1, 1, 1, 1, 1, 1, 1, 1, 1, 1])"
      ]
     },
     "execution_count": 58,
     "metadata": {},
     "output_type": "execute_result"
    }
   ],
   "source": [
    "test_labels"
   ]
  },
  {
   "cell_type": "code",
   "execution_count": 61,
   "id": "1721f428-7cb1-4a19-a631-29ea69866d76",
   "metadata": {},
   "outputs": [],
   "source": [
    "# y_predict"
   ]
  },
  {
   "cell_type": "code",
   "execution_count": 67,
   "id": "d17d45e2-5b61-46f2-b72b-a5570f994a70",
   "metadata": {},
   "outputs": [
    {
     "name": "stderr",
     "output_type": "stream",
     "text": [
      "/home/edwin/toc/lib/python3.7/site-packages/sklearn/metrics/_classification.py:1318: UndefinedMetricWarning: Precision and F-score are ill-defined and being set to 0.0 in labels with no predicted samples. Use `zero_division` parameter to control this behavior.\n",
      "  _warn_prf(average, modifier, msg_start, len(result))\n",
      "/home/edwin/toc/lib/python3.7/site-packages/sklearn/metrics/_classification.py:1318: UndefinedMetricWarning: Recall and F-score are ill-defined and being set to 0.0 in labels with no true samples. Use `zero_division` parameter to control this behavior.\n",
      "  _warn_prf(average, modifier, msg_start, len(result))\n",
      "/home/edwin/toc/lib/python3.7/site-packages/sklearn/metrics/_classification.py:1318: UndefinedMetricWarning: Precision and F-score are ill-defined and being set to 0.0 in labels with no predicted samples. Use `zero_division` parameter to control this behavior.\n",
      "  _warn_prf(average, modifier, msg_start, len(result))\n",
      "/home/edwin/toc/lib/python3.7/site-packages/sklearn/metrics/_classification.py:1318: UndefinedMetricWarning: Recall and F-score are ill-defined and being set to 0.0 in labels with no true samples. Use `zero_division` parameter to control this behavior.\n",
      "  _warn_prf(average, modifier, msg_start, len(result))\n",
      "/home/edwin/toc/lib/python3.7/site-packages/sklearn/metrics/_classification.py:1318: UndefinedMetricWarning: Precision and F-score are ill-defined and being set to 0.0 in labels with no predicted samples. Use `zero_division` parameter to control this behavior.\n",
      "  _warn_prf(average, modifier, msg_start, len(result))\n",
      "/home/edwin/toc/lib/python3.7/site-packages/sklearn/metrics/_classification.py:1318: UndefinedMetricWarning: Recall and F-score are ill-defined and being set to 0.0 in labels with no true samples. Use `zero_division` parameter to control this behavior.\n",
      "  _warn_prf(average, modifier, msg_start, len(result))\n"
     ]
    }
   ],
   "source": [
    "from sklearn.metrics import classification_report\n",
    "\n",
    "target_names = [\"Class 1\",\"Class 0\"]\n",
    "report=classification_report(y_true=test_labels, y_pred=y_predict,output_dict=True)"
   ]
  },
  {
   "cell_type": "code",
   "execution_count": 59,
   "id": "0f1470cd-caa4-480b-98c3-290168fa6e1a",
   "metadata": {},
   "outputs": [
    {
     "name": "stdout",
     "output_type": "stream",
     "text": [
      "              precision    recall  f1-score   support\n",
      "\n",
      "        -1.0       0.00      0.00      0.00         0\n",
      "         0.0       0.00      0.00      0.00        64\n",
      "         1.0       0.65      0.97      0.78       107\n",
      "\n",
      "    accuracy                           0.61       171\n",
      "   macro avg       0.22      0.32      0.26       171\n",
      "weighted avg       0.40      0.61      0.49       171\n",
      "\n"
     ]
    },
    {
     "name": "stderr",
     "output_type": "stream",
     "text": [
      "/home/edwin/toc/lib/python3.7/site-packages/sklearn/metrics/_classification.py:1318: UndefinedMetricWarning: Precision and F-score are ill-defined and being set to 0.0 in labels with no predicted samples. Use `zero_division` parameter to control this behavior.\n",
      "  _warn_prf(average, modifier, msg_start, len(result))\n",
      "/home/edwin/toc/lib/python3.7/site-packages/sklearn/metrics/_classification.py:1318: UndefinedMetricWarning: Recall and F-score are ill-defined and being set to 0.0 in labels with no true samples. Use `zero_division` parameter to control this behavior.\n",
      "  _warn_prf(average, modifier, msg_start, len(result))\n",
      "/home/edwin/toc/lib/python3.7/site-packages/sklearn/metrics/_classification.py:1318: UndefinedMetricWarning: Precision and F-score are ill-defined and being set to 0.0 in labels with no predicted samples. Use `zero_division` parameter to control this behavior.\n",
      "  _warn_prf(average, modifier, msg_start, len(result))\n",
      "/home/edwin/toc/lib/python3.7/site-packages/sklearn/metrics/_classification.py:1318: UndefinedMetricWarning: Recall and F-score are ill-defined and being set to 0.0 in labels with no true samples. Use `zero_division` parameter to control this behavior.\n",
      "  _warn_prf(average, modifier, msg_start, len(result))\n",
      "/home/edwin/toc/lib/python3.7/site-packages/sklearn/metrics/_classification.py:1318: UndefinedMetricWarning: Precision and F-score are ill-defined and being set to 0.0 in labels with no predicted samples. Use `zero_division` parameter to control this behavior.\n",
      "  _warn_prf(average, modifier, msg_start, len(result))\n",
      "/home/edwin/toc/lib/python3.7/site-packages/sklearn/metrics/_classification.py:1318: UndefinedMetricWarning: Recall and F-score are ill-defined and being set to 0.0 in labels with no true samples. Use `zero_division` parameter to control this behavior.\n",
      "  _warn_prf(average, modifier, msg_start, len(result))\n"
     ]
    }
   ],
   "source": [
    "print(classification_report(y_true=test_labels, y_pred=y_predict))"
   ]
  },
  {
   "cell_type": "code",
   "execution_count": 62,
   "id": "e9ba4902-4791-46ae-9040-0f959a213624",
   "metadata": {},
   "outputs": [],
   "source": [
    "# plot confusion matrix: reference: \n",
    "# https://github.com/DTrimarchi10/confusion_matrix/blob/master/cf_matrix.py\n",
    "\n",
    "import numpy as np\n",
    "import matplotlib.pyplot as plt\n",
    "import seaborn as sns\n",
    "\n",
    "def make_confusion_matrix(cf,\n",
    "                          group_names=None,\n",
    "                          categories='auto',\n",
    "                          count=True,\n",
    "                          percent=True,\n",
    "                          cbar=True,\n",
    "                          xyticks=True,\n",
    "                          xyplotlabels=True,\n",
    "                          sum_stats=True,\n",
    "                          figsize=None,\n",
    "                          cmap='Blues',\n",
    "                          title=None):\n",
    "    '''\n",
    "    This function will make a pretty plot of an sklearn Confusion Matrix cm using a Seaborn heatmap visualization.\n",
    "    Arguments\n",
    "    ---------\n",
    "    cf:            confusion matrix to be passed in\n",
    "    group_names:   List of strings that represent the labels row by row to be shown in each square.\n",
    "    categories:    List of strings containing the categories to be displayed on the x,y axis. Default is 'auto'\n",
    "    count:         If True, show the raw number in the confusion matrix. Default is True.\n",
    "    normalize:     If True, show the proportions for each category. Default is True.\n",
    "    cbar:          If True, show the color bar. The cbar values are based off the values in the confusion matrix.\n",
    "                   Default is True.\n",
    "    xyticks:       If True, show x and y ticks. Default is True.\n",
    "    xyplotlabels:  If True, show 'True Label' and 'Predicted Label' on the figure. Default is True.\n",
    "    sum_stats:     If True, display summary statistics below the figure. Default is True.\n",
    "    figsize:       Tuple representing the figure size. Default will be the matplotlib rcParams value.\n",
    "    cmap:          Colormap of the values displayed from matplotlib.pyplot.cm. Default is 'Blues'\n",
    "                   See http://matplotlib.org/examples/color/colormaps_reference.html\n",
    "                   \n",
    "    title:         Title for the heatmap. Default is None.\n",
    "    '''\n",
    "\n",
    "\n",
    "    # CODE TO GENERATE TEXT INSIDE EACH SQUARE\n",
    "    blanks = ['' for i in range(cf.size)]\n",
    "\n",
    "    if group_names and len(group_names)==cf.size:\n",
    "        group_labels = [\"{}\\n\".format(value) for value in group_names]\n",
    "    else:\n",
    "        group_labels = blanks\n",
    "\n",
    "    if count:\n",
    "        group_counts = [\"{0:0.0f}\\n\".format(value) for value in cf.flatten()]\n",
    "    else:\n",
    "        group_counts = blanks\n",
    "\n",
    "    if percent:\n",
    "        group_percentages = [\"{0:.2%}\".format(value) for value in cf.flatten()/np.sum(cf)]\n",
    "    else:\n",
    "        group_percentages = blanks\n",
    "\n",
    "    box_labels = [f\"{v1}{v2}{v3}\".strip() for v1, v2, v3 in zip(group_labels,group_counts,group_percentages)]\n",
    "    box_labels = np.asarray(box_labels).reshape(cf.shape[0],cf.shape[1])\n",
    "\n",
    "\n",
    "    # CODE TO GENERATE SUMMARY STATISTICS & TEXT FOR SUMMARY STATS\n",
    "    if sum_stats:\n",
    "        #Accuracy is sum of diagonal divided by total observations\n",
    "        accuracy  = np.trace(cf) / float(np.sum(cf))\n",
    "\n",
    "        #if it is a binary confusion matrix, show some more stats\n",
    "        if len(cf)==2:\n",
    "            #Metrics for Binary Confusion Matrices\n",
    "            precision = cf[1,1] / sum(cf[:,1])\n",
    "            recall    = cf[1,1] / sum(cf[1,:])\n",
    "            f1_score  = 2*precision*recall / (precision + recall)\n",
    "            stats_text = \"\\n\\nAccuracy={:0.3f}\\nPrecision={:0.3f}\\nRecall={:0.3f}\\nF1 Score={:0.3f}\".format(\n",
    "                accuracy,precision,recall,f1_score)\n",
    "        else:\n",
    "            stats_text = \"\\n\\nAccuracy={:0.3f}\".format(accuracy)\n",
    "    else:\n",
    "        stats_text = \"\"\n",
    "\n",
    "\n",
    "    # SET FIGURE PARAMETERS ACCORDING TO OTHER ARGUMENTS\n",
    "    if figsize==None:\n",
    "        #Get default figure size if not set\n",
    "        figsize = plt.rcParams.get('figure.figsize')\n",
    "\n",
    "    if xyticks==False:\n",
    "        #Do not show categories if xyticks is False\n",
    "        categories=False\n",
    "\n",
    "\n",
    "    # MAKE THE HEATMAP VISUALIZATION\n",
    "    plt.figure(figsize=figsize)\n",
    "    sns.heatmap(cf,annot=box_labels,fmt=\"\",cmap=cmap,cbar=cbar,xticklabels=categories,yticklabels=categories)\n",
    "\n",
    "    if xyplotlabels:\n",
    "        plt.ylabel('True label')\n",
    "        plt.xlabel('Predicted label' + stats_text)\n",
    "    else:\n",
    "        plt.xlabel(stats_text)\n",
    "    \n",
    "    if title:\n",
    "        plt.title(title)"
   ]
  },
  {
   "cell_type": "code",
   "execution_count": 64,
   "id": "e8bc80f4-96e9-4cd0-84f6-4734bf343667",
   "metadata": {},
   "outputs": [],
   "source": [
    "from sklearn.metrics import confusion_matrix"
   ]
  },
  {
   "cell_type": "code",
   "execution_count": 65,
   "id": "5073573e-c6ee-4a7c-99aa-541b2f5eac8f",
   "metadata": {},
   "outputs": [],
   "source": [
    "cm=confusion_matrix(y_true=test_labels, y_pred=y_predict)"
   ]
  },
  {
   "cell_type": "code",
   "execution_count": 66,
   "id": "e080dc7c-06ed-4bf6-9436-4fb46e136082",
   "metadata": {},
   "outputs": [
    {
     "data": {
      "image/png": "[encoded data removed]",
      "text/plain": [
       "<Figure size 600x400 with 2 Axes>"
      ]
     },
     "metadata": {},
     "output_type": "display_data"
    }
   ],
   "source": [
    "make_confusion_matrix(cm)"
   ]
  },
  {
   "cell_type": "code",
   "execution_count": null,
   "id": "90e2163f-3e9c-43c8-a02c-a33034889d68",
   "metadata": {},
   "outputs": [],
   "source": []
  }
 ],
 "metadata": {
  "kernelspec": {
   "display_name": "Python 3 (ipykernel)",
   "language": "python",
   "name": "python3"
  },
  "language_info": {
   "codemirror_mode": {
    "name": "ipython",
    "version": 3
   },
   "file_extension": ".py",
   "mimetype": "text/x-python",
   "name": "python",
   "nbconvert_exporter": "python",
   "pygments_lexer": "ipython3",
   "version": "3.7.15"
  }
 },
 "nbformat": 4,
 "nbformat_minor": 5
}
