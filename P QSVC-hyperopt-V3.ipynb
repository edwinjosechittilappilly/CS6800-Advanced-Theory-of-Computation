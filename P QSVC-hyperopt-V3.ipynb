{
 "cells": [
  {
   "cell_type": "code",
   "execution_count": null,
   "id": "20e8955f-e84a-4733-a0dd-0de6bd642804",
   "metadata": {},
   "outputs": [],
   "source": [
    "from qiskit_machine_learning.datasets.dataset_helper import (\n",
    "    features_and_labels_transform\n",
    ")\n",
    "\n",
    "from sklearn.datasets import make_blobs\n",
    "from sklearn.datasets import load_breast_cancer\n",
    "\n",
    "from qiskit import BasicAer\n",
    "from qiskit.circuit.library import ZFeatureMap\n",
    "from qiskit.utils import algorithm_globals\n",
    "\n",
    "from qiskit_machine_learning.kernels import FidelityQuantumKernel\n",
    "from qiskit_machine_learning.algorithms import PegasosQSVC\n",
    "import matplotlib.pyplot as plt"
   ]
  },
  {
   "cell_type": "code",
   "execution_count": null,
   "id": "15ac7249-eca6-4878-b7e8-59930121a35d",
   "metadata": {},
   "outputs": [],
   "source": [
    "\"\"\"\n",
    "breast cancer dataset\n",
    "\"\"\"\n",
    "\n",
    "import numpy as np\n",
    "from sklearn import datasets\n",
    "from sklearn.model_selection import train_test_split\n",
    "from sklearn.preprocessing import StandardScaler, MinMaxScaler\n",
    "from sklearn.decomposition import PCA\n",
    "from qiskit.utils import optionals\n",
    "from qiskit_machine_learning.datasets.dataset_helper import (features_and_labels_transform)\n",
    "\n",
    "\n",
    "\n",
    "# train_size=20\n",
    "# test_size=30\n",
    "# n=2\n",
    "# plot_data=True\n",
    "# one_hot=True\n",
    "\n",
    "\n",
    "def reduce_data(train_size=0.7,dataset=None,test_size=0.3,dimension=2,plot_data=True,one_hot=False,\n",
    "                sample_train=None, sample_test=None, label_train=[], label_test=None,title=\"Sample Diagram\"):\n",
    "    \n",
    "    if len(dataset)>0:\n",
    "        data =dataset[\"data\"]\n",
    "        target = dataset[\"target\"]\n",
    "        class_labels = np.unique(target).tolist()\n",
    "        sample_train, sample_test, label_train, label_test = train_test_split(\n",
    "            data, target, train_size=train_size,test_size=test_size, random_state=12)\n",
    "    else:\n",
    "        class_labels = np.unique(label_train).tolist()\n",
    "        \n",
    "    if type(test_size)==float or type(train_size)==float :\n",
    "        test_size=len(label_test)\n",
    "        train_size=len(label_train)\n",
    "\n",
    "    # Now we standardize for gaussian around 0 with unit variance\n",
    "    std_scale = StandardScaler().fit(sample_train)\n",
    "    sample_train = std_scale.transform(sample_train)\n",
    "    sample_test = std_scale.transform(sample_test)\n",
    "\n",
    "    # Now reduce number of features to number of qubits\n",
    "    pca = PCA(n_components=dimension).fit(sample_train)\n",
    "    sample_train = pca.transform(sample_train)\n",
    "    sample_test = pca.transform(sample_test)\n",
    "\n",
    "    # Scale to the range (-1,+1)\n",
    "    samples = np.append(sample_train, sample_test, axis=0)\n",
    "    minmax_scale = MinMaxScaler((-1, 1)).fit(samples)\n",
    "    sample_train = minmax_scale.transform(sample_train)\n",
    "    sample_test = minmax_scale.transform(sample_test)\n",
    "\n",
    "    # Pick training size number of samples from each distro\n",
    "    training_input = {\n",
    "        key: (sample_train[label_train == k, :])[:train_size]\n",
    "        for k, key in enumerate(class_labels)\n",
    "    }\n",
    "    test_input = {\n",
    "        key: (sample_test[label_test == k, :])[:test_size] for k, key in enumerate(class_labels)\n",
    "    }\n",
    "    training_feature_array, training_label_array = features_and_labels_transform(\n",
    "        training_input, class_labels, one_hot\n",
    "    )\n",
    "    test_feature_array, test_label_array = features_and_labels_transform(\n",
    "        test_input, class_labels, one_hot\n",
    "    )\n",
    "\n",
    "    if plot_data:\n",
    "        # optionals.HAS_MATPLOTLIB.require_now(\"breast_cancer\")\n",
    "        # pylint: disable=import-error\n",
    "        import matplotlib.pyplot as plt\n",
    "\n",
    "        for k in range(0, 2):\n",
    "            #gets the xy cordinateds for each classes\n",
    "            plt.scatter(\n",
    "                sample_train[label_train == k, 0][:train_size],\n",
    "                sample_train[label_train == k, 1][:train_size],\n",
    "            )\n",
    "        plt.legend(class_labels)\n",
    "        plt.title(f\"PCA dim.{dimension} reduced {title} dataset\")\n",
    "        plt.show()\n",
    "\n",
    "    return(\n",
    "        training_feature_array,\n",
    "        training_label_array,\n",
    "        test_feature_array,\n",
    "        test_label_array)"
   ]
  },
  {
   "cell_type": "markdown",
   "id": "13c39e6e-2d1f-420c-8653-159470c56fcf",
   "metadata": {},
   "source": [
    "# Pegasos Quantum Support Vector Classifier¶\n"
   ]
  },
  {
   "cell_type": "code",
   "execution_count": null,
   "id": "1d9f1eac-4a24-4181-82aa-850a01975557",
   "metadata": {},
   "outputs": [],
   "source": [
    "dataset=load_breast_cancer()"
   ]
  },
  {
   "cell_type": "markdown",
   "id": "08795fdd-98ad-450b-9959-e3e31ac6674f",
   "metadata": {
    "tags": []
   },
   "source": [
    "# Hyperopt Optimization"
   ]
  },
  {
   "cell_type": "code",
   "execution_count": null,
   "id": "4e8030d1-9d33-4a82-a6b2-d764643edce8",
   "metadata": {},
   "outputs": [],
   "source": [
    "# !pip install hyperopt "
   ]
  },
  {
   "cell_type": "code",
   "execution_count": null,
   "id": "53e43918-8a4e-4899-97bc-69b542cab8e0",
   "metadata": {},
   "outputs": [],
   "source": [
    "from hyperopt.pyll.base import scope\n",
    "from hyperopt import fmin, hp, tpe, Trials, space_eval\n",
    "from sklearn.model_selection import cross_val_score\n",
    "from hyperopt import tpe, hp, fmin, STATUS_OK, Trials\n",
    "\n",
    "from hyperopt.pyll.base import scope\n",
    "from hyperopt.early_stop import no_progress_loss\n",
    "from hyperopt.pyll import scope"
   ]
  },
  {
   "cell_type": "code",
   "execution_count": null,
   "id": "8f3eb74c-5ba6-4983-b5ab-654b2d4db5c9",
   "metadata": {},
   "outputs": [
    {
     "name": "stdout",
     "output_type": "stream",
     "text": [
      "Dimen:2, Qbit:2, tau: 1300, C:1400                                                                                 \n",
      "Dimen:3, Qbit:3, tau: 900, C:1000                                                                                  \n",
      "Dimen:3, Qbit:3, tau: 1900, C:4400                                                                                 \n",
      "Dimen:2, Qbit:2, tau: 300, C:3400                                                                                  \n",
      "Dimen:3, Qbit:3, tau: 100, C:4600                                                                                  \n",
      "Dimen:3, Qbit:3, tau: 1900, C:1600                                                                                 \n",
      "Dimen:2, Qbit:2, tau: 1300, C:4800                                                                                 \n",
      "Dimen:2, Qbit:2, tau: 1100, C:2200                                                                                 \n",
      "100%|██████████████████████████████████████████| 10/10 [25:29<00:00, 152.94s/trial, best loss: -0.9415204678362573]\n"
     ]
    }
   ],
   "source": [
    "# space = {\"c\": hp.uniform(\"c\", -10, 10)}\n",
    "# scope.int(hp.quiniform('my_param', 1, 100, q=1))\n",
    "\n",
    "\n",
    "space ={\"feature_dim\":hp.choice(\"feature_dim\",list(range(2,4))),\n",
    "          \"tau\":hp.choice(\"tau\",list(range(100,2000,200))),\n",
    "       \"C\":hp.choice(\"C\",list(range(1000,5000,200)))}\n",
    "\n",
    "# define objective function\n",
    "def model(params):\n",
    "    # model_clf = SeasonalAD(**params)\n",
    "    \n",
    "    feature_dim = params[\"feature_dim\"]\n",
    "    \n",
    "    # number of qubits is equal to the number of features\n",
    "    num_qubits = feature_dim\n",
    "\n",
    "    # number of steps performed during the training procedure\n",
    "    tau = params[\"tau\"]\n",
    "\n",
    "    # regularization parameter\n",
    "    C = params[\"C\"]\n",
    "    print(f'Dimen:{feature_dim}, Qbit:{num_qubits}, tau: {tau}, C:{C}')\n",
    "\n",
    "    train_features,train_labels,test_features,test_labels = reduce_data(dataset=dataset,\n",
    "                                                                  train_size=0.7,\n",
    "                                                                  test_size=0.3,\n",
    "                                                                  dimension=feature_dim,\n",
    "                                                                  plot_data=False,\n",
    "                                                                  one_hot=False,\n",
    "                                                                  title=\"Breast Cancer SK learn\")\n",
    "    algorithm_globals.random_seed = 12345\n",
    "    feature_map = ZFeatureMap(feature_dimension=num_qubits, reps=1)\n",
    "    qkernel = FidelityQuantumKernel(feature_map=feature_map)\n",
    "    pegasos_qsvc = PegasosQSVC(quantum_kernel=qkernel, C=C, num_steps=tau)\n",
    "    # training\n",
    "    # pegasos_qsvc.fit(train_features, train_labels)\n",
    "    # testing\n",
    "    # pegasos_score = pegasos_qsvc.score(test_features, test_labels)\n",
    "    # print(f\"PegasosQSVC classification test score: {pegasos_score}\")\n",
    "    return pegasos_qsvc,train_features,train_labels,test_features,test_labels\n",
    "\n",
    "def hyperparameter_tuning(params):\n",
    "    clf,train_features,train_labels,test_features,test_labels = model(params)\n",
    "    clf.fit(train_features, train_labels)\n",
    "\n",
    "    score = clf.score(test_features, test_labels)\n",
    " \n",
    "    return {\"loss\": -1 * score, \"status\": STATUS_OK}\n",
    "\n",
    "# Initialize trials object\n",
    "trials = Trials()\n",
    "\n",
    "best = fmin(\n",
    "    fn=hyperparameter_tuning,\n",
    "    space=space,\n",
    "    algo=tpe.suggest,\n",
    "    max_evals=10,\n",
    "    trials=trials,\n",
    "    early_stop_fn=no_progress_loss(iteration_stop_count=10,\n",
    "                                   percent_increase=0.0),\n",
    ")"
   ]
  },
  {
   "cell_type": "code",
   "execution_count": null,
   "id": "05985d8c-0f3c-401b-9648-0e77f66e4581",
   "metadata": {},
   "outputs": [
    {
     "data": {
      "text/plain": [
       "{'C': 6, 'feature_dim': 0, 'tau': 5}"
      ]
     },
     "execution_count": 14,
     "metadata": {},
     "output_type": "execute_result"
    }
   ],
   "source": [
    "best"
   ]
  },
  {
   "cell_type": "code",
   "execution_count": null,
   "id": "1baff7f6-514e-486b-bfd5-70e30de0f3e4",
   "metadata": {},
   "outputs": [
    {
     "data": {
      "text/plain": [
       "[{'state': 2,\n",
       "  'tid': 0,\n",
       "  'spec': None,\n",
       "  'result': {'loss': -0.9005847953216374, 'status': 'ok'},\n",
       "  'misc': {'tid': 0,\n",
       "   'cmd': ('domain_attachment', 'FMinIter_Domain'),\n",
       "   'workdir': None,\n",
       "   'idxs': {'C': [0], 'feature_dim': [0], 'tau': [0]},\n",
       "   'vals': {'C': [2], 'feature_dim': [0], 'tau': [6]}},\n",
       "  'exp_key': None,\n",
       "  'owner': None,\n",
       "  'version': 0,\n",
       "  'book_time': datetime.datetime(2022, 12, 4, 1, 46, 24, 714000),\n",
       "  'refresh_time': datetime.datetime(2022, 12, 4, 1, 49, 12, 122000)},\n",
       " {'state': 2,\n",
       "  'tid': 1,\n",
       "  'spec': None,\n",
       "  'result': {'loss': -0.9122807017543859, 'status': 'ok'},\n",
       "  'misc': {'tid': 1,\n",
       "   'cmd': ('domain_attachment', 'FMinIter_Domain'),\n",
       "   'workdir': None,\n",
       "   'idxs': {'C': [1], 'feature_dim': [1], 'tau': [1]},\n",
       "   'vals': {'C': [0], 'feature_dim': [1], 'tau': [4]}},\n",
       "  'exp_key': None,\n",
       "  'owner': None,\n",
       "  'version': 0,\n",
       "  'book_time': datetime.datetime(2022, 12, 4, 1, 49, 12, 127000),\n",
       "  'refresh_time': datetime.datetime(2022, 12, 4, 1, 51, 24, 633000)},\n",
       " {'state': 2,\n",
       "  'tid': 2,\n",
       "  'spec': None,\n",
       "  'result': {'loss': -0.9122807017543859, 'status': 'ok'},\n",
       "  'misc': {'tid': 2,\n",
       "   'cmd': ('domain_attachment', 'FMinIter_Domain'),\n",
       "   'workdir': None,\n",
       "   'idxs': {'C': [2], 'feature_dim': [2], 'tau': [2]},\n",
       "   'vals': {'C': [17], 'feature_dim': [1], 'tau': [9]}},\n",
       "  'exp_key': None,\n",
       "  'owner': None,\n",
       "  'version': 0,\n",
       "  'book_time': datetime.datetime(2022, 12, 4, 1, 51, 24, 638000),\n",
       "  'refresh_time': datetime.datetime(2022, 12, 4, 1, 56, 27, 117000)},\n",
       " {'state': 2,\n",
       "  'tid': 3,\n",
       "  'spec': None,\n",
       "  'result': {'loss': -0.9181286549707602, 'status': 'ok'},\n",
       "  'misc': {'tid': 3,\n",
       "   'cmd': ('domain_attachment', 'FMinIter_Domain'),\n",
       "   'workdir': None,\n",
       "   'idxs': {'C': [3], 'feature_dim': [3], 'tau': [3]},\n",
       "   'vals': {'C': [12], 'feature_dim': [0], 'tau': [1]}},\n",
       "  'exp_key': None,\n",
       "  'owner': None,\n",
       "  'version': 0,\n",
       "  'book_time': datetime.datetime(2022, 12, 4, 1, 56, 27, 121000),\n",
       "  'refresh_time': datetime.datetime(2022, 12, 4, 1, 56, 48, 431000)},\n",
       " {'state': 2,\n",
       "  'tid': 4,\n",
       "  'spec': None,\n",
       "  'result': {'loss': -0.9064327485380117, 'status': 'ok'},\n",
       "  'misc': {'tid': 4,\n",
       "   'cmd': ('domain_attachment', 'FMinIter_Domain'),\n",
       "   'workdir': None,\n",
       "   'idxs': {'C': [4], 'feature_dim': [4], 'tau': [4]},\n",
       "   'vals': {'C': [18], 'feature_dim': [1], 'tau': [0]}},\n",
       "  'exp_key': None,\n",
       "  'owner': None,\n",
       "  'version': 0,\n",
       "  'book_time': datetime.datetime(2022, 12, 4, 1, 56, 48, 436000),\n",
       "  'refresh_time': datetime.datetime(2022, 12, 4, 1, 56, 56, 558000)},\n",
       " {'state': 2,\n",
       "  'tid': 5,\n",
       "  'spec': None,\n",
       "  'result': {'loss': -0.8947368421052632, 'status': 'ok'},\n",
       "  'misc': {'tid': 5,\n",
       "   'cmd': ('domain_attachment', 'FMinIter_Domain'),\n",
       "   'workdir': None,\n",
       "   'idxs': {'C': [5], 'feature_dim': [5], 'tau': [5]},\n",
       "   'vals': {'C': [3], 'feature_dim': [1], 'tau': [9]}},\n",
       "  'exp_key': None,\n",
       "  'owner': None,\n",
       "  'version': 0,\n",
       "  'book_time': datetime.datetime(2022, 12, 4, 1, 56, 56, 563000),\n",
       "  'refresh_time': datetime.datetime(2022, 12, 4, 2, 2, 45, 128000)},\n",
       " {'state': 2,\n",
       "  'tid': 6,\n",
       "  'spec': None,\n",
       "  'result': {'loss': -0.9181286549707602, 'status': 'ok'},\n",
       "  'misc': {'tid': 6,\n",
       "   'cmd': ('domain_attachment', 'FMinIter_Domain'),\n",
       "   'workdir': None,\n",
       "   'idxs': {'C': [6], 'feature_dim': [6], 'tau': [6]},\n",
       "   'vals': {'C': [2], 'feature_dim': [0], 'tau': [1]}},\n",
       "  'exp_key': None,\n",
       "  'owner': None,\n",
       "  'version': 0,\n",
       "  'book_time': datetime.datetime(2022, 12, 4, 2, 2, 45, 132000),\n",
       "  'refresh_time': datetime.datetime(2022, 12, 4, 2, 3, 10, 148000)},\n",
       " {'state': 2,\n",
       "  'tid': 7,\n",
       "  'spec': None,\n",
       "  'result': {'loss': -0.9122807017543859, 'status': 'ok'},\n",
       "  'misc': {'tid': 7,\n",
       "   'cmd': ('domain_attachment', 'FMinIter_Domain'),\n",
       "   'workdir': None,\n",
       "   'idxs': {'C': [7], 'feature_dim': [7], 'tau': [7]},\n",
       "   'vals': {'C': [18], 'feature_dim': [0], 'tau': [9]}},\n",
       "  'exp_key': None,\n",
       "  'owner': None,\n",
       "  'version': 0,\n",
       "  'book_time': datetime.datetime(2022, 12, 4, 2, 3, 10, 153000),\n",
       "  'refresh_time': datetime.datetime(2022, 12, 4, 2, 7, 20, 217000)},\n",
       " {'state': 2,\n",
       "  'tid': 8,\n",
       "  'spec': None,\n",
       "  'result': {'loss': -0.8771929824561403, 'status': 'ok'},\n",
       "  'misc': {'tid': 8,\n",
       "   'cmd': ('domain_attachment', 'FMinIter_Domain'),\n",
       "   'workdir': None,\n",
       "   'idxs': {'C': [8], 'feature_dim': [8], 'tau': [8]},\n",
       "   'vals': {'C': [19], 'feature_dim': [0], 'tau': [6]}},\n",
       "  'exp_key': None,\n",
       "  'owner': None,\n",
       "  'version': 0,\n",
       "  'book_time': datetime.datetime(2022, 12, 4, 2, 7, 20, 310000),\n",
       "  'refresh_time': datetime.datetime(2022, 12, 4, 2, 9, 46, 436000)},\n",
       " {'state': 2,\n",
       "  'tid': 9,\n",
       "  'spec': None,\n",
       "  'result': {'loss': -0.9415204678362573, 'status': 'ok'},\n",
       "  'misc': {'tid': 9,\n",
       "   'cmd': ('domain_attachment', 'FMinIter_Domain'),\n",
       "   'workdir': None,\n",
       "   'idxs': {'C': [9], 'feature_dim': [9], 'tau': [9]},\n",
       "   'vals': {'C': [6], 'feature_dim': [0], 'tau': [5]}},\n",
       "  'exp_key': None,\n",
       "  'owner': None,\n",
       "  'version': 0,\n",
       "  'book_time': datetime.datetime(2022, 12, 4, 2, 9, 46, 441000),\n",
       "  'refresh_time': datetime.datetime(2022, 12, 4, 2, 11, 54, 104000)}]"
      ]
     },
     "execution_count": 44,
     "metadata": {},
     "output_type": "execute_result"
    }
   ],
   "source": [
    "list(trials)"
   ]
  },
  {
   "cell_type": "code",
   "execution_count": null,
   "id": "4206fa02-9959-4f8d-a74b-cac2b732fe1f",
   "metadata": {},
   "outputs": [],
   "source": [
    "space_final ={\"feature_dim\":list(range(2,4)),\n",
    "         \"tau\":list(range(100,2000,200)),\n",
    "    \"C\":list(range(1000,5000,200))}"
   ]
  },
  {
   "cell_type": "code",
   "execution_count": null,
   "id": "0f1b5c7d-05e8-40d2-9bee-55c5b9f1e7ae",
   "metadata": {},
   "outputs": [
    {
     "name": "stdout",
     "output_type": "stream",
     "text": [
      "C:2200 , feature_dim: 2, tau: 1100 \n"
     ]
    }
   ],
   "source": [
    "print(f'C:{space_final[\"C\"][best[\"C\"]]} , feature_dim: {space_final[\"feature_dim\"][best[\"feature_dim\"]]}, tau: {space_final[\"tau\"][best[\"tau\"]]} ')"
   ]
  },
  {
   "cell_type": "code",
   "execution_count": null,
   "id": "7b2ef36b-569e-46d6-ba5a-f363c94b3fa8",
   "metadata": {},
   "outputs": [
    {
     "name": "stdout",
     "output_type": "stream",
     "text": [
      "PegasosQSVC classification test score: 0.9415204678362573\n"
     ]
    }
   ],
   "source": [
    "feature_dim = space_final[\"feature_dim\"][best[\"feature_dim\"]]\n",
    "# number of qubits is equal to the number of features\n",
    "num_qubits = feature_dim\n",
    "\n",
    "# number of steps performed during the training procedure\n",
    "tau = space_final[\"tau\"][best[\"tau\"]]\n",
    "\n",
    "# regularization parameter\n",
    "C = space_final[\"C\"][best[\"C\"]]\n",
    "\n",
    "\n",
    "train_features,train_labels,test_features,test_labels = reduce_data(dataset=dataset,\n",
    "                                                                  train_size=0.7,\n",
    "                                                                  test_size=0.3,\n",
    "                                                                  dimension=feature_dim,\n",
    "                                                                  plot_data=False,\n",
    "                                                                  one_hot=False,\n",
    "                                                                  title=\"Breast Cancer SK learn\")\n",
    "algorithm_globals.random_seed = 12345\n",
    "feature_map = ZFeatureMap(feature_dimension=num_qubits, reps=1)\n",
    "qkernel = FidelityQuantumKernel(feature_map=feature_map)\n",
    "pegasos_qsvc = PegasosQSVC(quantum_kernel=qkernel, C=C, num_steps=tau)\n",
    "# training\n",
    "pegasos_qsvc.fit(train_features, train_labels)\n",
    "# testing\n",
    "pegasos_score = pegasos_qsvc.score(test_features, test_labels)\n",
    "print(f\"PegasosQSVC classification test score: {pegasos_score}\")"
   ]
  },
  {
   "cell_type": "markdown",
   "id": "9a6c68e7-df7d-487b-a02d-d298825b420d",
   "metadata": {},
   "source": [
    "### Plotting predictions and wrong points"
   ]
  },
  {
   "cell_type": "code",
   "execution_count": 47,
   "id": "b981cba0-2805-45e7-8235-a9e574ea3d4c",
   "metadata": {},
   "outputs": [
    {
     "data": {
      "image/png": "[encoded data removed]",
      "text/plain": [
       "<Figure size 640x480 with 1 Axes>"
      ]
     },
     "metadata": {},
     "output_type": "display_data"
    }
   ],
   "source": [
    "# evaluate data points\n",
    "y_predict = pegasos_qsvc.predict(test_features)\n",
    "\n",
    "# plot results\n",
    "# red == wrongly classified\n",
    "for x, y_target, y_p in zip(test_features, test_labels, y_predict):\n",
    "    if y_target == 1:\n",
    "        plt.plot(x[0], x[1], \"bo\")\n",
    "    else:\n",
    "        plt.plot(x[0], x[1], \"go\")\n",
    "    if y_target != y_p:\n",
    "        plt.scatter(x[0], x[1], s=200, facecolors=\"none\", edgecolors=\"r\", linewidths=2)\n",
    "# plt.legend([\"Class 1\",\"Class 0\", \"Wrongly classified\"])\n",
    "plt.savefig(\"./pqsvc.png\")\n",
    "plt.show()"
   ]
  },
  {
   "cell_type": "code",
   "execution_count": 46,
   "id": "ac83296b-fb68-4ef2-a483-eedb778755b3",
   "metadata": {},
   "outputs": [
    {
     "data": {
      "text/plain": [
       "<Figure size 640x480 with 0 Axes>"
      ]
     },
     "metadata": {},
     "output_type": "display_data"
    }
   ],
   "source": []
  },
  {
   "cell_type": "code",
   "execution_count": null,
   "id": "e4ee761b-cc73-4afb-8711-a3ee243093b2",
   "metadata": {},
   "outputs": [],
   "source": [
    "from sklearn.metrics import classification_report\n",
    "\n",
    "target_names = [\"Class 1\",\"Class 0\"]\n",
    "report=classification_report(y_true=test_labels, y_pred=y_predict, target_names=target_names,output_dict=True)"
   ]
  },
  {
   "cell_type": "code",
   "execution_count": null,
   "id": "9ebfe419-35f2-4c2f-9515-7241ed76f4ce",
   "metadata": {},
   "outputs": [
    {
     "name": "stdout",
     "output_type": "stream",
     "text": [
      "              precision    recall  f1-score   support\n",
      "\n",
      "     Class 1       0.97      0.88      0.92        64\n",
      "     Class 0       0.93      0.98      0.95       107\n",
      "\n",
      "    accuracy                           0.94       171\n",
      "   macro avg       0.95      0.93      0.94       171\n",
      "weighted avg       0.94      0.94      0.94       171\n",
      "\n"
     ]
    }
   ],
   "source": [
    "print(classification_report(y_true=test_labels, y_pred=y_predict, target_names=target_names))"
   ]
  },
  {
   "cell_type": "code",
   "execution_count": 50,
   "id": "49a1f390-252d-46d9-b751-a3085e79abaf",
   "metadata": {
    "tags": []
   },
   "outputs": [],
   "source": [
    "# plot confusion matrix: reference: \n",
    "# https://github.com/DTrimarchi10/confusion_matrix/blob/master/cf_matrix.py\n",
    "\n",
    "import numpy as np\n",
    "import matplotlib.pyplot as plt\n",
    "import seaborn as sns\n",
    "\n",
    "def make_confusion_matrix(cf,\n",
    "                          group_names=None,\n",
    "                          categories='auto',\n",
    "                          count=True,\n",
    "                          percent=True,\n",
    "                          cbar=True,\n",
    "                          xyticks=True,\n",
    "                          xyplotlabels=True,\n",
    "                          sum_stats=True,\n",
    "                          figsize=None,\n",
    "                          cmap='Blues',\n",
    "                          title=None):\n",
    "    '''\n",
    "    This function will make a pretty plot of an sklearn Confusion Matrix cm using a Seaborn heatmap visualization.\n",
    "    Arguments\n",
    "    ---------\n",
    "    cf:            confusion matrix to be passed in\n",
    "    group_names:   List of strings that represent the labels row by row to be shown in each square.\n",
    "    categories:    List of strings containing the categories to be displayed on the x,y axis. Default is 'auto'\n",
    "    count:         If True, show the raw number in the confusion matrix. Default is True.\n",
    "    normalize:     If True, show the proportions for each category. Default is True.\n",
    "    cbar:          If True, show the color bar. The cbar values are based off the values in the confusion matrix.\n",
    "                   Default is True.\n",
    "    xyticks:       If True, show x and y ticks. Default is True.\n",
    "    xyplotlabels:  If True, show 'True Label' and 'Predicted Label' on the figure. Default is True.\n",
    "    sum_stats:     If True, display summary statistics below the figure. Default is True.\n",
    "    figsize:       Tuple representing the figure size. Default will be the matplotlib rcParams value.\n",
    "    cmap:          Colormap of the values displayed from matplotlib.pyplot.cm. Default is 'Blues'\n",
    "                   See http://matplotlib.org/examples/color/colormaps_reference.html\n",
    "                   \n",
    "    title:         Title for the heatmap. Default is None.\n",
    "    '''\n",
    "\n",
    "\n",
    "    # CODE TO GENERATE TEXT INSIDE EACH SQUARE\n",
    "    blanks = ['' for i in range(cf.size)]\n",
    "\n",
    "    if group_names and len(group_names)==cf.size:\n",
    "        group_labels = [\"{}\\n\".format(value) for value in group_names]\n",
    "    else:\n",
    "        group_labels = blanks\n",
    "\n",
    "    if count:\n",
    "        group_counts = [\"{0:0.0f}\\n\".format(value) for value in cf.flatten()]\n",
    "    else:\n",
    "        group_counts = blanks\n",
    "\n",
    "    if percent:\n",
    "        group_percentages = [\"{0:.2%}\".format(value) for value in cf.flatten()/np.sum(cf)]\n",
    "    else:\n",
    "        group_percentages = blanks\n",
    "\n",
    "    box_labels = [f\"{v1}{v2}{v3}\".strip() for v1, v2, v3 in zip(group_labels,group_counts,group_percentages)]\n",
    "    box_labels = np.asarray(box_labels).reshape(cf.shape[0],cf.shape[1])\n",
    "\n",
    "\n",
    "    # CODE TO GENERATE SUMMARY STATISTICS & TEXT FOR SUMMARY STATS\n",
    "    if sum_stats:\n",
    "        #Accuracy is sum of diagonal divided by total observations\n",
    "        accuracy  = np.trace(cf) / float(np.sum(cf))\n",
    "\n",
    "        #if it is a binary confusion matrix, show some more stats\n",
    "        if len(cf)==2:\n",
    "            #Metrics for Binary Confusion Matrices\n",
    "            precision = cf[1,1] / sum(cf[:,1])\n",
    "            recall    = cf[1,1] / sum(cf[1,:])\n",
    "            f1_score  = 2*precision*recall / (precision + recall)\n",
    "            stats_text = \"\\n\\nAccuracy={:0.3f}\\nPrecision={:0.3f}\\nRecall={:0.3f}\\nF1 Score={:0.3f}\".format(\n",
    "                accuracy,precision,recall,f1_score)\n",
    "        else:\n",
    "            stats_text = \"\\n\\nAccuracy={:0.3f}\".format(accuracy)\n",
    "    else:\n",
    "        stats_text = \"\"\n",
    "\n",
    "\n",
    "    # SET FIGURE PARAMETERS ACCORDING TO OTHER ARGUMENTS\n",
    "    if figsize==None:\n",
    "        #Get default figure size if not set\n",
    "        figsize = plt.rcParams.get('figure.figsize')\n",
    "\n",
    "    if xyticks==False:\n",
    "        #Do not show categories if xyticks is False\n",
    "        categories=False\n",
    "\n",
    "\n",
    "    # MAKE THE HEATMAP VISUALIZATION\n",
    "    plt.figure(figsize=figsize)\n",
    "    sns.heatmap(cf,annot=box_labels,fmt=\"\",cmap=cmap,cbar=cbar,xticklabels=categories,yticklabels=categories)\n",
    "\n",
    "    if xyplotlabels:\n",
    "        plt.ylabel('True label')\n",
    "        plt.xlabel('Predicted label' + stats_text)\n",
    "    else:\n",
    "        plt.xlabel(stats_text)\n",
    "    \n",
    "    if title:\n",
    "        plt.title(title)\n",
    "    plt.savefig(\"./CP.png\")"
   ]
  },
  {
   "cell_type": "code",
   "execution_count": 51,
   "id": "c748b043-55fb-4af3-ab49-e9ff48ad338e",
   "metadata": {},
   "outputs": [],
   "source": [
    "cm=confusion_matrix(y_true=test_labels, y_pred=y_predict)"
   ]
  },
  {
   "cell_type": "code",
   "execution_count": 52,
   "id": "2afefbd1-63a9-437d-a7b4-bad528a6f990",
   "metadata": {},
   "outputs": [
    {
     "data": {
      "image/png": "[encoded data removed]",
      "text/plain": [
       "<Figure size 640x480 with 2 Axes>"
      ]
     },
     "metadata": {},
     "output_type": "display_data"
    }
   ],
   "source": [
    "make_confusion_matrix(cm)"
   ]
  },
  {
   "cell_type": "code",
   "execution_count": null,
   "id": "a053a4cc-6b7a-482d-9d08-166d92bf5e2f",
   "metadata": {},
   "outputs": [],
   "source": []
  }
 ],
 "metadata": {
  "kernelspec": {
   "display_name": "Python 3 (ipykernel)",
   "language": "python",
   "name": "python3"
  },
  "language_info": {
   "codemirror_mode": {
    "name": "ipython",
    "version": 3
   },
   "file_extension": ".py",
   "mimetype": "text/x-python",
   "name": "python",
   "nbconvert_exporter": "python",
   "pygments_lexer": "ipython3",
   "version": "3.7.15"
  }
 },
 "nbformat": 4,
 "nbformat_minor": 5
}
